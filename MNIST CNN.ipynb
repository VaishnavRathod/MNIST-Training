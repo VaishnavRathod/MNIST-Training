{
 "cells": [
  {
   "cell_type": "code",
   "execution_count": 12,
   "id": "e34e4f75",
   "metadata": {},
   "outputs": [],
   "source": [
    "import numpy as np\n",
    "import pandas as pd\n",
    "import matplotlib.pyplot as plt\n",
    "import cv2 as cv\n",
    "\n",
    "from keras.models import Sequential\n",
    "from keras.layers import Dense, Conv2D, Dropout, Flatten, MaxPooling2D "
   ]
  },
  {
   "cell_type": "code",
   "execution_count": 2,
   "id": "63f546ab",
   "metadata": {},
   "outputs": [],
   "source": [
    "train_set = pd.read_csv('MNIST/mnist_train.csv').values\n",
    "test_set  = pd.read_csv('MNIST/mnist_test.csv').values"
   ]
  },
  {
   "cell_type": "code",
   "execution_count": 76,
   "id": "a97ed3ef",
   "metadata": {},
   "outputs": [],
   "source": [
    "# Importing datasets and separating the labels  \n",
    "x_train = train_set[:,1:]\n",
    "y_train = train_set[:,:1]\n",
    "\n",
    "x_test = test_set[:,1:]\n",
    "y_test = test_set[:,:1]"
   ]
  },
  {
   "cell_type": "code",
   "execution_count": 77,
   "id": "4574f09b",
   "metadata": {},
   "outputs": [],
   "source": [
    "# Reshaping the dataset \n",
    "x_train = np.reshape(x_train,(60000,28,28,1))\n",
    "x_train = x_train/255.\n",
    "\n",
    "x_test = np.reshape(x_test,(10000,28,28,1))\n",
    "x_test = x_test/255."
   ]
  },
  {
   "cell_type": "markdown",
   "id": "ceccdfa1",
   "metadata": {},
   "source": [
    "# CNN Architecture modeling"
   ]
  },
  {
   "cell_type": "code",
   "execution_count": 5,
   "id": "70f6c51d",
   "metadata": {},
   "outputs": [],
   "source": []
  },
  {
   "cell_type": "code",
   "execution_count": 6,
   "id": "4a284b2a",
   "metadata": {},
   "outputs": [],
   "source": [
    "model = Sequential()\n",
    "\n",
    "model.add(Conv2D(28, kernel_size = (3,3), input_shape = (28,28,1)))\n",
    "model.add(MaxPooling2D(pool_size = (2,2)))\n",
    "\n",
    "model.add(Flatten())\n",
    "\n",
    "model.add(Dense(128, activation = 'relu'))\n",
    "model.add(Dropout(0.2))\n",
    "\n",
    "model.add(Dense(10, activation = 'softmax'))\n",
    "\n",
    "model.compile( optimizer = 'adam', loss = 'sparse_categorical_crossentropy', metrics = ['accuracy'])\n",
    "\n"
   ]
  },
  {
   "cell_type": "code",
   "execution_count": 7,
   "id": "29a44ee0",
   "metadata": {},
   "outputs": [
    {
     "name": "stdout",
     "output_type": "stream",
     "text": [
      "Epoch 1/8\n",
      "1875/1875 [==============================] - 57s 28ms/step - loss: 0.2073 - accuracy: 0.9373\n",
      "Epoch 2/8\n",
      "1875/1875 [==============================] - 52s 28ms/step - loss: 0.0844 - accuracy: 0.9738\n",
      "Epoch 3/8\n",
      "1875/1875 [==============================] - 52s 28ms/step - loss: 0.0585 - accuracy: 0.9812\n",
      "Epoch 4/8\n",
      "1875/1875 [==============================] - 52s 28ms/step - loss: 0.0441 - accuracy: 0.9863\n",
      "Epoch 5/8\n",
      "1875/1875 [==============================] - 53s 28ms/step - loss: 0.0377 - accuracy: 0.9874\n",
      "Epoch 6/8\n",
      "1875/1875 [==============================] - 52s 28ms/step - loss: 0.0288 - accuracy: 0.9901\n",
      "Epoch 7/8\n",
      "1875/1875 [==============================] - 87s 46ms/step - loss: 0.0253 - accuracy: 0.9912TA: 23s - loss: 0.02 - ETA: 23s - loss: 0.0248 - accuracy:  - ETA: 23s - loss: 0. - ETA - ETA: 23s - loss: - ETA: 22s - loss: 0.0246 -  - ETA: - ETA: 19s - loss: 0.0244 - a - ETA - ETA: 15s - loss: 0.0248 - accuracy: 0. - ETA: 15s - loss: 0.0249 - accuracy - ETA: 15s - loss: 0.0 - ETA: 14s -  - ETA: 0s - los\n",
      "Epoch 8/8\n",
      "1875/1875 [==============================] - 136s 72ms/step - loss: 0.0209 - accuracy: 0.9926\n"
     ]
    },
    {
     "data": {
      "text/plain": [
       "<keras.callbacks.History at 0x1a667cd8bb0>"
      ]
     },
     "execution_count": 7,
     "metadata": {},
     "output_type": "execute_result"
    }
   ],
   "source": [
    "model.fit(x = x_train, y = y_train, epochs = 8)"
   ]
  },
  {
   "cell_type": "code",
   "execution_count": 9,
   "id": "d08cc039",
   "metadata": {},
   "outputs": [
    {
     "name": "stdout",
     "output_type": "stream",
     "text": [
      "313/313 [==============================] - 4s 10ms/step - loss: 0.0578 - accuracy: 0.9847\n"
     ]
    },
    {
     "data": {
      "text/plain": [
       "[0.057771649211645126, 0.9847000241279602]"
      ]
     },
     "execution_count": 9,
     "metadata": {},
     "output_type": "execute_result"
    }
   ],
   "source": [
    "model.evaluate(x_test, y_test)"
   ]
  },
  {
   "cell_type": "markdown",
   "id": "ff7db5c1",
   "metadata": {},
   "source": [
    "# Importing test image and preprocessing "
   ]
  },
  {
   "cell_type": "code",
   "execution_count": 72,
   "id": "2d10eda3",
   "metadata": {},
   "outputs": [
    {
     "data": {
      "image/png": "[encoded data removed]",
      "text/plain": [
       "<Figure size 432x288 with 1 Axes>"
      ]
     },
     "metadata": {
      "needs_background": "light"
     },
     "output_type": "display_data"
    },
    {
     "name": "stdout",
     "output_type": "stream",
     "text": [
      "This image is predicted as : 0\n"
     ]
    }
   ],
   "source": [
    "# Preprocessing the image\n",
    "img = cv.imread('Test/Zero.png')                       \n",
    "gray = cv.cvtColor(img, cv.COLOR_BGR2GRAY)\n",
    "gray = gray/255.\n",
    "gray = 1.-gray\n",
    "gray = cv.resize(gray,(28,28))\n",
    "\n",
    "\n",
    "plt.imshow(gray)\n",
    "plt.show()\n",
    "\n",
    "# Reshaping image to predict\n",
    "gray = np.reshape(gray, (1,28,28,1))\n",
    "print(\"This image is predicted as :\" , np.argmax(model.predict(gray)))       # np.argmax returns index of max value "
   ]
  },
  {
   "cell_type": "code",
   "execution_count": 73,
   "id": "3573bb1c",
   "metadata": {},
   "outputs": [
    {
     "name": "stdout",
     "output_type": "stream",
     "text": [
      "0.999793 0\n",
      "7.672761e-08 1\n",
      "0.00010775066 2\n",
      "7.557145e-09 3\n",
      "5.4632636e-08 4\n",
      "1.9213199e-11 5\n",
      "8.230964e-06 6\n",
      "1.5817881e-06 7\n",
      "5.8404247e-08 8\n",
      "8.933644e-05 9\n"
     ]
    }
   ],
   "source": [
    "ref = 0\n",
    "result = model.predict(gray)\n",
    "for i in result[0]:\n",
    "  \n",
    "    print(i ,  ref)\n",
    "    ref = ref + 1"
   ]
  },
  {
   "cell_type": "code",
   "execution_count": 74,
   "id": "3f5e5389",
   "metadata": {},
   "outputs": [
    {
     "data": {
      "text/plain": [
       "0"
      ]
     },
     "execution_count": 74,
     "metadata": {},
     "output_type": "execute_result"
    }
   ],
   "source": [
    "np.argmax(result)"
   ]
  },
  {
   "cell_type": "code",
   "execution_count": null,
   "id": "ae56474f",
   "metadata": {},
   "outputs": [],
   "source": []
  },
  {
   "cell_type": "markdown",
   "id": "426061fc",
   "metadata": {},
   "source": [
    "# Saving the CNN model "
   ]
  },
  {
   "cell_type": "code",
   "execution_count": 78,
   "id": "2813dc67",
   "metadata": {},
   "outputs": [
    {
     "name": "stdout",
     "output_type": "stream",
     "text": [
      "Model: \"sequential\"\n",
      "_________________________________________________________________\n",
      " Layer (type)                Output Shape              Param #   \n",
      "=================================================================\n",
      " conv2d (Conv2D)             (None, 26, 26, 28)        280       \n",
      "                                                                 \n",
      " max_pooling2d (MaxPooling2D  (None, 13, 13, 28)       0         \n",
      " )                                                               \n",
      "                                                                 \n",
      " flatten (Flatten)           (None, 4732)              0         \n",
      "                                                                 \n",
      " dense (Dense)               (None, 128)               605824    \n",
      "                                                                 \n",
      " dropout (Dropout)           (None, 128)               0         \n",
      "                                                                 \n",
      " dense_1 (Dense)             (None, 10)                1290      \n",
      "                                                                 \n",
      "=================================================================\n",
      "Total params: 607,394\n",
      "Trainable params: 607,394\n",
      "Non-trainable params: 0\n",
      "_________________________________________________________________\n"
     ]
    }
   ],
   "source": [
    "model.summary()"
   ]
  },
  {
   "cell_type": "code",
   "execution_count": 80,
   "id": "4d4d6adf",
   "metadata": {},
   "outputs": [],
   "source": [
    "model.save('CNN_8Epochs.h5')         # After saving the model load the model with load_model in keras.model lib   "
   ]
  },
  {
   "cell_type": "code",
   "execution_count": null,
   "id": "92819275",
   "metadata": {},
   "outputs": [],
   "source": []
  }
 ],
 "metadata": {
  "kernelspec": {
   "display_name": "Python 3",
   "language": "python",
   "name": "python3"
  },
  "language_info": {
   "codemirror_mode": {
    "name": "ipython",
    "version": 3
   },
   "file_extension": ".py",
   "mimetype": "text/x-python",
   "name": "python",
   "nbconvert_exporter": "python",
   "pygments_lexer": "ipython3",
   "version": "3.8.8"
  }
 },
 "nbformat": 4,
 "nbformat_minor": 5
}
